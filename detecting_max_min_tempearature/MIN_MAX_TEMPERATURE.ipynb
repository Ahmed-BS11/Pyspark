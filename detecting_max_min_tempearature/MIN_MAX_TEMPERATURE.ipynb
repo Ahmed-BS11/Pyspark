{
  "nbformat": 4,
  "nbformat_minor": 0,
  "metadata": {
    "colab": {
      "provenance": []
    },
    "kernelspec": {
      "name": "python3",
      "display_name": "Python 3"
    },
    "language_info": {
      "name": "python"
    }
  },
  "cells": [
    {
      "cell_type": "code",
      "source": [
        "!pip install pyspark"
      ],
      "metadata": {
        "colab": {
          "base_uri": "https://localhost:8080/"
        },
        "id": "HaSKy2-u-LQ6",
        "outputId": "65b4c36b-c218-4c9b-c44e-2621d8802cb6"
      },
      "execution_count": null,
      "outputs": [
        {
          "output_type": "stream",
          "name": "stdout",
          "text": [
            "Collecting pyspark\n",
            "  Downloading pyspark-3.5.0.tar.gz (316.9 MB)\n",
            "\u001b[2K     \u001b[90m━━━━━━━━━━━━━━━━━━━━━━━━━━━━━━━━━━━━━━━\u001b[0m \u001b[32m316.9/316.9 MB\u001b[0m \u001b[31m2.8 MB/s\u001b[0m eta \u001b[36m0:00:00\u001b[0m\n",
            "\u001b[?25h  Preparing metadata (setup.py) ... \u001b[?25l\u001b[?25hdone\n",
            "Requirement already satisfied: py4j==0.10.9.7 in /usr/local/lib/python3.10/dist-packages (from pyspark) (0.10.9.7)\n",
            "Building wheels for collected packages: pyspark\n",
            "  Building wheel for pyspark (setup.py) ... \u001b[?25l\u001b[?25hdone\n",
            "  Created wheel for pyspark: filename=pyspark-3.5.0-py2.py3-none-any.whl size=317425344 sha256=a681f1dfdc121c2070aa8ae37ad71c254904160b8b16eec9f3cee660c421d09a\n",
            "  Stored in directory: /root/.cache/pip/wheels/41/4e/10/c2cf2467f71c678cfc8a6b9ac9241e5e44a01940da8fbb17fc\n",
            "Successfully built pyspark\n",
            "Installing collected packages: pyspark\n",
            "Successfully installed pyspark-3.5.0\n"
          ]
        }
      ]
    },
    {
      "cell_type": "code",
      "execution_count": null,
      "metadata": {
        "id": "euQxLs4Q9-yP"
      },
      "outputs": [],
      "source": [
        "from pyspark import SparkConf, SparkContext\n",
        "conf = SparkConf().setMaster(\"local\").setAppName(\"MaxTemperatures\")\n",
        "sc = SparkContext(conf = conf)\n"
      ]
    },
    {
      "cell_type": "code",
      "source": [
        "\n",
        "def parseLine(line):\n",
        "  fields = line.split(',')\n",
        "  stationID = fields[0]\n",
        "  entryType = fields[2]\n",
        "  temperature = float(fields[3]) * 0.1 * (9.0 / 5.0) + 32.0\n",
        "  return (stationID, entryType, temperature)\n"
      ],
      "metadata": {
        "id": "O9SB1h5A-Jj7"
      },
      "execution_count": null,
      "outputs": []
    },
    {
      "cell_type": "code",
      "source": [
        "\n",
        "lines = sc.textFile(\"/content/1800.csv\")\n",
        "parsedLines = lines.map(parseLine)\n",
        "maxTemps = parsedLines.filter(lambda x: \"TMIN\" in x[1])\n",
        "stationTemps = maxTemps.map(lambda x: (x[0], x[2]))\n",
        "maxTemps = stationTemps.reduceByKey(lambda x, y: min(x,y))\n",
        "results = maxTemps.collect();\n",
        "\n"
      ],
      "metadata": {
        "id": "S2QRZqH3-QGY"
      },
      "execution_count": null,
      "outputs": []
    },
    {
      "cell_type": "code",
      "source": [
        "for result in results:\n",
        "  print('=============================================================')\n",
        "  print(result[0] + \"\\t{:.2f}F\".format(result[1]))"
      ],
      "metadata": {
        "colab": {
          "base_uri": "https://localhost:8080/"
        },
        "id": "gmmfj6Ng-Ru-",
        "outputId": "9e7e75d9-3f1a-420a-99df-6c7284bde43a"
      },
      "execution_count": null,
      "outputs": [
        {
          "output_type": "stream",
          "name": "stdout",
          "text": [
            "=============================================================\n",
            "ITE00100554\t5.36F\n",
            "=============================================================\n",
            "EZE00100082\t7.70F\n"
          ]
        }
      ]
    },
    {
      "cell_type": "code",
      "source": [
        "\n",
        "lines = sc.textFile(\"/content/1800.csv\")\n",
        "parsedLines = lines.map(parseLine)\n",
        "maxTemps = parsedLines.filter(lambda x: \"TMAX\" in x[1])\n",
        "stationTemps = maxTemps.map(lambda x: (x[0], x[2]))\n",
        "maxTemps = stationTemps.reduceByKey(lambda x, y: max(x,y))\n",
        "results = maxTemps.collect();\n",
        "for result in results:\n",
        "  print('=============================================================')\n",
        "  print(result[0] + \"\\t{:.2f}F\".format(result[1]))\n"
      ],
      "metadata": {
        "colab": {
          "base_uri": "https://localhost:8080/"
        },
        "id": "nMoChC2T-jxd",
        "outputId": "28ce09d9-7e41-45b5-ee68-3999a5cf7576"
      },
      "execution_count": null,
      "outputs": [
        {
          "output_type": "stream",
          "name": "stdout",
          "text": [
            "=============================================================\n",
            "ITE00100554\t90.14F\n",
            "=============================================================\n",
            "EZE00100082\t90.14F\n"
          ]
        }
      ]
    },
    {
      "cell_type": "code",
      "source": [],
      "metadata": {
        "id": "tCAueZYh-_YC"
      },
      "execution_count": null,
      "outputs": []
    }
  ]
}